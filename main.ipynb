{
 "cells": [
  {
   "cell_type": "markdown",
   "id": "38883f33",
   "metadata": {},
   "source": [
    "## Phase 1: Understanding and Analyzing the Data\n",
    "\n",
    "### Reading and Understanding the Data\n",
    "- **Explanation:**  \n",
    "  - We load the training and testing data using the Pandas library to understand their structure.  \n",
    "  - We use `pd.read_csv` to read files like `train_feats.csv` and `test_feats.csv`, along with mutation and methylation data.  "
   ]
  },
  {
   "cell_type": "code",
   "execution_count": 1,
   "id": "7f357592",
   "metadata": {},
   "outputs": [],
   "source": [
    "import pandas as pd\n",
    "\n",
    "# Load training features\n",
    "train_feats = pd.read_csv('train_feats.csv')\n",
    "\n",
    "# Load testing features\n",
    "test_feats = pd.read_csv('test_feats.csv')\n",
    "\n",
    "# Load training mutation data\n",
    "train_muts = pd.read_csv('train_muts_data.csv')\n",
    "\n",
    "# Load testing mutation data\n",
    "test_muts = pd.read_csv('test_muts_data.csv')\n",
    "\n",
    "# Load testing methylation data\n",
    "test_meth = pd.read_csv('test_meth_data.csv')"
   ]
  },
  {
   "cell_type": "markdown",
   "id": "3c1e1b48",
   "metadata": {},
   "source": [
    "### Exploring the Data\n",
    "- **Explanation:**  \n",
    "  - We examine the distribution of labels in the training data to check for class balance using `value_counts()`.  \n",
    "  - We check for missing values using `isnull().sum()` to ensure data quality.  "
   ]
  },
  {
   "cell_type": "code",
   "execution_count": 2,
   "id": "29529662",
   "metadata": {},
   "outputs": [
    {
     "name": "stdout",
     "output_type": "stream",
     "text": [
      "Label Distribution:\n",
      "Label\n",
      "2.0    408\n",
      "1.0    397\n",
      "Name: count, dtype: int64\n",
      "Missing Values in Training Data:\n",
      "case_id               0\n",
      "Label                 0\n",
      "Mutations_in_ABL1     0\n",
      "Mutations_in_AKT1     0\n",
      "Mutations_in_ALK      0\n",
      "                     ..\n",
      "Mutations_in_TSC1     0\n",
      "Mutations_in_TSC2     0\n",
      "Mutations_in_U2AF1    0\n",
      "Mutations_in_VHL      0\n",
      "Mutations_in_WT1      0\n",
      "Length: 102, dtype: int64\n",
      "Missing Values in Testing Data:\n",
      "case_id               0\n",
      "Mutations_in_ABL1     0\n",
      "Mutations_in_AKT1     0\n",
      "Mutations_in_ALK      0\n",
      "Mutations_in_APC      0\n",
      "                     ..\n",
      "Mutations_in_TSC1     0\n",
      "Mutations_in_TSC2     0\n",
      "Mutations_in_U2AF1    0\n",
      "Mutations_in_VHL      0\n",
      "Mutations_in_WT1      0\n",
      "Length: 101, dtype: int64\n"
     ]
    }
   ],
   "source": [
    "# Distribution of labels in training data\n",
    "print(\"Label Distribution:\")\n",
    "print(train_feats['Label'].value_counts())\n",
    "\n",
    "# Check for missing values in training data\n",
    "print(\"Missing Values in Training Data:\")\n",
    "print(train_feats.isnull().sum())\n",
    "\n",
    "# Check for missing values in testing data\n",
    "print(\"Missing Values in Testing Data:\")\n",
    "print(test_feats.isnull().sum())"
   ]
  },
  {
   "cell_type": "markdown",
   "id": "f2ef57b7",
   "metadata": {},
   "source": [
    "### Analyzing Mutations\n",
    "- **Explanation:**  \n",
    "  - We extract sequences surrounding mutations using the `extract_sequences` function from an external file.  \n",
    "  - We analyze the types of mutations (e.g., Missense or Nonsense) to understand their impact using `value_counts()`.  \n"
   ]
  },
  {
   "cell_type": "code",
   "execution_count": 3,
   "id": "3b18c8c5",
   "metadata": {},
   "outputs": [],
   "source": [
    "# from extract_sequences import extract_seqs\n",
    "\n",
    "# # Extract sequences for mutations in training data\n",
    "# train_sequences = extract_seqs('100_genes.csv', train_muts)\n",
    "\n",
    "# # Analyze the distribution of mutation types\n",
    "# print(\"Mutation Type Distribution:\")\n",
    "# print(train_muts['mutation_type'].value_counts())"
   ]
  },
  {
   "cell_type": "code",
   "execution_count": null,
   "id": "d3a0ef6e",
   "metadata": {},
   "outputs": [
    {
     "ename": "ImportError",
     "evalue": "cannot import name 'extract_flanked_region' from 'extract_sequences' (consider renaming '/home/okal/Zone/Gigs/Computational-Genomics/extract_sequences.py' if it has the same name as a library you intended to import)",
     "output_type": "error",
     "traceback": [
      "\u001b[31m---------------------------------------------------------------------------\u001b[39m",
      "\u001b[31mImportError\u001b[39m                               Traceback (most recent call last)",
      "\u001b[36mCell\u001b[39m\u001b[36m \u001b[39m\u001b[32mIn[7]\u001b[39m\u001b[32m, line 1\u001b[39m\n\u001b[32m----> \u001b[39m\u001b[32m1\u001b[39m \u001b[38;5;28;01mfrom\u001b[39;00m\u001b[38;5;250m \u001b[39m\u001b[34;01mextract_sequences\u001b[39;00m\u001b[38;5;250m \u001b[39m\u001b[38;5;28;01mimport\u001b[39;00m extract_flanked_region\n\u001b[32m      3\u001b[39m \u001b[38;5;66;03m# Example usage with your data\u001b[39;00m\n\u001b[32m      4\u001b[39m train_sequences = extract_flanked_region(\u001b[33m'\u001b[39m\u001b[33m100_genes.csv\u001b[39m\u001b[33m'\u001b[39m, \u001b[33m'\u001b[39m\u001b[33mstrand\u001b[39m\u001b[33m'\u001b[39m, \u001b[32m100\u001b[39m, \u001b[32m200\u001b[39m, \u001b[32m50\u001b[39m, \u001b[32m50\u001b[39m)\n",
      "\u001b[36mFile \u001b[39m\u001b[32m~/Zone/Gigs/Computational-Genomics/extract_sequences.py:1\u001b[39m\n\u001b[32m----> \u001b[39m\u001b[32m1\u001b[39m \u001b[38;5;28;01mfrom\u001b[39;00m\u001b[38;5;250m \u001b[39m\u001b[34;01mextract_sequences\u001b[39;00m\u001b[38;5;250m \u001b[39m\u001b[38;5;28;01mimport\u001b[39;00m extract_flanked_region\n\u001b[32m      2\u001b[39m \u001b[38;5;28;01mimport\u001b[39;00m\u001b[38;5;250m \u001b[39m\u001b[34;01mpandas\u001b[39;00m\u001b[38;5;250m \u001b[39m\u001b[38;5;28;01mas\u001b[39;00m\u001b[38;5;250m \u001b[39m\u001b[34;01mpd\u001b[39;00m\n\u001b[32m      4\u001b[39m \u001b[38;5;66;03m# Load your training mutations DataFrame (adjust the file path as needed)\u001b[39;00m\n",
      "\u001b[31mImportError\u001b[39m: cannot import name 'extract_flanked_region' from 'extract_sequences' (consider renaming '/home/okal/Zone/Gigs/Computational-Genomics/extract_sequences.py' if it has the same name as a library you intended to import)"
     ]
    }
   ],
   "source": [
    "import pandas as pd\n",
    "from extract_sequences import extract_flanked_region\n",
    "\n",
    "# Load mutation data\n",
    "train_muts = pd.read_csv('train_muts_data.csv')  # Adjust path if needed\n",
    "\n",
    "# Load gene data (assuming '100_genes.csv' contains sequences)\n",
    "genes_df = pd.read_csv('100_genes.csv')  # Adjust path if needed\n",
    "# Example: Create a dictionary mapping gene names to sequences\n",
    "# Adjust column names based on your '100_genes.csv' structure\n",
    "gene_sequences = dict(zip(genes_df['gene_name'], genes_df['sequence']))\n",
    "\n",
    "# Define flanking region sizes\n",
    "upstream = 10    # Number of bases upstream\n",
    "downstream = 10  # Number of bases downstream\n",
    "\n",
    "# Extract sequences for each mutation\n",
    "train_sequences = []\n",
    "for index, row in train_muts.iterrows():\n",
    "    gene = row['gene_name']  # Adjust column name if different\n",
    "    chrom_seq_str = gene_sequences.get(gene, '')  # Get sequence for the gene\n",
    "    if not chrom_seq_str:\n",
    "        print(f\"Warning: No sequence found for gene {gene}\")\n",
    "        continue\n",
    "    strand = row['strand']    # Adjust column name if different\n",
    "    start = row['position']   # Adjust column name if different\n",
    "    stop = row['position']    # Assuming single-base mutations; adjust if start/stop differ\n",
    "    try:\n",
    "        sequence = extract_flanked_region(chrom_seq_str, strand, start, stop, upstream, downstream)\n",
    "        train_sequences.append(sequence)\n",
    "    except ValueError as e:\n",
    "        print(f\"Error processing mutation at index {index}: {e}\")\n",
    "        continue\n",
    "\n",
    "# Output the extracted sequences\n",
    "print(f\"Extracted {len(train_sequences)} sequences:\")\n",
    "print(train_sequences)"
   ]
  }
 ],
 "metadata": {
  "kernelspec": {
   "display_name": ".venv",
   "language": "python",
   "name": "python3"
  },
  "language_info": {
   "codemirror_mode": {
    "name": "ipython",
    "version": 3
   },
   "file_extension": ".py",
   "mimetype": "text/x-python",
   "name": "python",
   "nbconvert_exporter": "python",
   "pygments_lexer": "ipython3",
   "version": "3.13.2"
  }
 },
 "nbformat": 4,
 "nbformat_minor": 5
}
